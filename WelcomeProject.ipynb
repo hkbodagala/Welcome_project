{
  "nbformat": 4,
  "nbformat_minor": 0,
  "metadata": {
    "colab": {
      "provenance": [],
      "authorship_tag": "ABX9TyN0UyVCTmd8WriYk0rn/z3i",
      "include_colab_link": true
    },
    "kernelspec": {
      "name": "python3",
      "display_name": "Python 3"
    },
    "language_info": {
      "name": "python"
    }
  },
  "cells": [
    {
      "cell_type": "markdown",
      "metadata": {
        "id": "view-in-github",
        "colab_type": "text"
      },
      "source": [
        "<a href=\"https://colab.research.google.com/github/hkbodagala/Welcome_project/blob/main/WelcomeProject.ipynb\" target=\"_parent\"><img src=\"https://colab.research.google.com/assets/colab-badge.svg\" alt=\"Open In Colab\"/></a>"
      ]
    },
    {
      "cell_type": "code",
      "execution_count": 2,
      "metadata": {
        "id": "W1bhDVr9b21k",
        "colab": {
          "base_uri": "https://localhost:8080/"
        },
        "outputId": "7714ef8d-3af1-4be0-9eeb-76de7d824274"
      },
      "outputs": [
        {
          "output_type": "stream",
          "name": "stdout",
          "text": [
            "Welcome Project\n"
          ]
        }
      ],
      "source": [
        "print(\"Welcome Project\")"
      ]
    },
    {
      "cell_type": "code",
      "source": [
        "print(\"Welcome to the Band Name Generator.\")"
      ],
      "metadata": {
        "id": "8-7nqQLBfRbv",
        "outputId": "d91a18cc-148f-480c-9aa8-012b62179633",
        "colab": {
          "base_uri": "https://localhost:8080/"
        }
      },
      "execution_count": 3,
      "outputs": [
        {
          "output_type": "stream",
          "name": "stdout",
          "text": [
            "Welcome to the Band Name Generator.\n"
          ]
        }
      ]
    }
  ]
}